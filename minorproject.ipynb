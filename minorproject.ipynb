{
 "cells": [
  {
   "cell_type": "code",
   "execution_count": 1,
   "id": "74749562-554d-40ae-b964-d2704630d719",
   "metadata": {},
   "outputs": [
    {
     "name": "stdout",
     "output_type": "stream",
     "text": [
      "Bus Ticket Fare Calculator\n"
     ]
    },
    {
     "name": "stdin",
     "output_type": "stream",
     "text": [
      "Enter Your Age:  19\n"
     ]
    },
    {
     "name": "stdout",
     "output_type": "stream",
     "text": [
      "No Discount\n"
     ]
    }
   ],
   "source": [
    "print(\"Bus Ticket Fare Calculator\")\n",
    "age=int(input(\"Enter Your Age: \"))\n",
    "if age<=5:\n",
    "    print(\"Free\")\n",
    "elif age<=15:\n",
    "    print(\"50% Discount\")\n",
    "else:\n",
    "    print(\"No Discount\")"
   ]
  },
  {
   "cell_type": "code",
   "execution_count": 2,
   "id": "03851920-12a0-401e-85bc-e699ae8abe0b",
   "metadata": {},
   "outputs": [
    {
     "name": "stdout",
     "output_type": "stream",
     "text": [
      "Electricity Bill Generator\n",
      "unit<=100:0\n",
      "unit<=200:Rs.5\n",
      "\n"
     ]
    },
    {
     "name": "stdin",
     "output_type": "stream",
     "text": [
      "Enter Units:  450\n"
     ]
    },
    {
     "name": "stdout",
     "output_type": "stream",
     "text": [
      "Electricity Bill: Rs. 2500\n"
     ]
    }
   ],
   "source": [
    "print(\"Electricity Bill Generator\\nunit<=100:0\\nunit<=200:Rs.5\\n\")\n",
    "unit=int(input(\"Enter Units: \"))\n",
    "\n",
    "if unit<=100:\n",
    "    bill=0\n",
    "    print(\"Rs.0\")\n",
    "elif unit<=250:\n",
    "    rate=unit-100\n",
    "    bill=rate*5\n",
    "else:\n",
    "    rate=unit-200\n",
    "    bill=rate*10\n",
    "    \n",
    "print(\"Electricity Bill: Rs.\",bill)"
   ]
  },
  {
   "cell_type": "code",
   "execution_count": null,
   "id": "c7b5a464-89f6-4cf3-9bea-d150c235ac2f",
   "metadata": {},
   "outputs": [
    {
     "name": "stdout",
     "output_type": "stream",
     "text": [
      "Login Page\n"
     ]
    }
   ],
   "source": [
    "print(\"Login Page\")\n",
    "username_c=\"admin\"\n",
    "password_c=\"@123@\"\n",
    "username=input(\"Enter Your Username: \")\n",
    "password=input(\"Enter Your Password: \")\n",
    "if username_c==username and password_c==password:\n",
    "    print(\"Login Successfully!\")\n",
    "else:\n",
    "    print(\"Incorrect! try Again\")"
   ]
  },
  {
   "cell_type": "code",
   "execution_count": 1,
   "id": "1070aa9d-8573-4bb1-b19b-29d213c5974d",
   "metadata": {},
   "outputs": [
    {
     "name": "stdout",
     "output_type": "stream",
     "text": [
      "library fine calculator\n"
     ]
    },
    {
     "name": "stdin",
     "output_type": "stream",
     "text": [
      "enter the due date 12\n",
      "enter the due month 3\n",
      "enter the return day 6\n",
      "enter the return month 7\n"
     ]
    },
    {
     "name": "stdout",
     "output_type": "stream",
     "text": [
      "the fine is:  1710\n"
     ]
    }
   ],
   "source": [
    "\n",
    "print(\"library fine calculator\")\n",
    "due_day=int(input(\"enter the due date\"))\n",
    "due_month=int(input(\"enter the due month\"))\n",
    "return_day=int(input(\"enter the return day\"))\n",
    "return_month=int(input(\"enter the return month\"))\n",
    "due_day=due_day + (due_month * 30)\n",
    "return_day= return_day + (return_month * 30)\n",
    "if return_day > due_day:\n",
    "    fine=(return_day - due_day) * 15\n",
    "    print(\"the fine is: \",fine)\n",
    "else:\n",
    "    print(\"no fine\")\n",
    "\n",
    "\n"
   ]
  },
  {
   "cell_type": "code",
   "execution_count": null,
   "id": "9716cec5-65d0-4442-a20a-ac7cf6d8e152",
   "metadata": {},
   "outputs": [],
   "source": []
  }
 ],
 "metadata": {
  "kernelspec": {
   "display_name": "Python 3 (ipykernel)",
   "language": "python",
   "name": "python3"
  },
  "language_info": {
   "codemirror_mode": {
    "name": "ipython",
    "version": 3
   },
   "file_extension": ".py",
   "mimetype": "text/x-python",
   "name": "python",
   "nbconvert_exporter": "python",
   "pygments_lexer": "ipython3",
   "version": "3.12.4"
  }
 },
 "nbformat": 4,
 "nbformat_minor": 5
}
