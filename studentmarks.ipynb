{
 "cells": [
  {
   "cell_type": "code",
   "execution_count": 1,
   "id": "a48c54ed-edc9-418f-a024-e54b07ae4efd",
   "metadata": {},
   "outputs": [
    {
     "name": "stdout",
     "output_type": "stream",
     "text": [
      "(10, 'raman', 23.3)\n"
     ]
    }
   ],
   "source": [
    "a=(10,'raman',23.3)\n",
    "\n",
    "print(a)"
   ]
  },
  {
   "cell_type": "code",
   "execution_count": 2,
   "id": "e5fa7e6f-a0fa-4410-b588-52c4c7281e27",
   "metadata": {},
   "outputs": [
    {
     "name": "stdout",
     "output_type": "stream",
     "text": [
      "[10, 'raman', 23.2, 60]\n",
      "(10, 'raman', 23.2, 60)\n"
     ]
    }
   ],
   "source": [
    "a=(10,'raman',23.2)\n",
    "t=list(a)\n",
    "\n",
    "t.append(60)\n",
    "\n",
    "print(t)\n",
    "\n",
    "print(tuple(t))"
   ]
  },
  {
   "cell_type": "code",
   "execution_count": 3,
   "id": "3b136505-4b49-444b-8b31-a2b5a7437500",
   "metadata": {},
   "outputs": [
    {
     "name": "stdout",
     "output_type": "stream",
     "text": [
      "10\n"
     ]
    }
   ],
   "source": [
    "d={10,20,30}\n",
    "\n",
    "for i in d:\n",
    "    if 10 == i:\n",
    "        print(i)"
   ]
  },
  {
   "cell_type": "code",
   "execution_count": 4,
   "id": "7da25dd8-240e-4914-adcc-7383ba7074f2",
   "metadata": {},
   "outputs": [
    {
     "name": "stdout",
     "output_type": "stream",
     "text": [
      "{40, 10, 20}\n"
     ]
    }
   ],
   "source": [
    "d={10,20,30,40}\n",
    "\n",
    "d.discard(30)\n",
    "print(d)"
   ]
  },
  {
   "cell_type": "markdown",
   "id": "9eb0254f-06e7-4ae5-b942-f3f81e1cf784",
   "metadata": {},
   "source": [
    "### student_marks={\"mohan\": 85, \"sita\": 90, \"ram\": 78, \"geeta\": 88}\n",
    "def add_student(name, marks):\n",
    "    if name in student_marks:\n",
    "        print(f\"Student {name} already exists.\")\n",
    "    else:\n",
    "        student_marks[name] = marks\n",
    "        print(f\"Student {name} added with marks {marks}.\")\n",
    "def update_student(name, marks):\n",
    "    if name in student_marks:\n",
    "        student_marks[name] = marks\n",
    "        print(f\"Student {name} updated with marks {marks}.\")\n",
    "    else:\n",
    "        print(f\"Student {name} does not exist.\")\n",
    "print(\"Welcome to the Student Marks Management System\")\n",
    "print(\"1. Add Student\")\n",
    "print(\"2. Update Student\")\n",
    "print(\"3. Display all records\")\n",
    "print(\"5. Display highest, lowest, and average marks\")\n",
    "print(\"6. Exit\")\n",
    "choice=input(\"Enter your choice: \")\n",
    "match choice:\n",
    "    case \"1\":\n",
    "        name = input(\"Enter student name: \")\n",
    "        marks = float(input(\"Enter student marks: \"))\n",
    "        add_student(name, marks)\n",
    "    case \"2\":\n",
    "        name = input(\"Enter student name to update: \")\n",
    "        marks = float(input(\"Enter new marks for the student: \"))\n",
    "        update_student(name, marks)\n",
    "    case \"3\":\n",
    "        print(\"Student Records:\")\n",
    "        for student, marks in student_marks.items():\n",
    "            print(f\"{student}: {marks}\")\n",
    "    case \"5\":\n",
    "        if not student_marks:\n",
    "            print(\"No records available.\")\n",
    "        else:\n",
    "            highest = max(student_marks.values())\n",
    "            lowest = min(student_marks.values())\n",
    "            average = sum(student_marks.values()) / len(student_marks)\n",
    "            print(f\"Highest Marks: {highest}\")\n",
    "            print(f\"Lowest Marks: {lowest}\")\n",
    "            print(f\"Average Marks: {average}\")\n",
    "    case \"6\":\n",
    "        print(\"Exiting the system.\")\n",
    "    case _:\n",
    "        print(\"Invalid choice. Please try again.\")"
   ]
  },
  {
   "cell_type": "code",
   "execution_count": 6,
   "id": "20267fae-d156-4f23-b428-792b946d8b83",
   "metadata": {},
   "outputs": [
    {
     "name": "stdout",
     "output_type": "stream",
     "text": [
      "Welcome to the Student Marks Management System\n",
      "1. Add Student\n",
      "2. Update Student\n",
      "3. Display all records\n",
      "5. Display highest, lowest, and average marks\n",
      "6. Exit\n"
     ]
    },
    {
     "name": "stdin",
     "output_type": "stream",
     "text": [
      "Enter your choice:  3\n"
     ]
    },
    {
     "name": "stdout",
     "output_type": "stream",
     "text": [
      "Student Records:\n",
      "mohan: 85\n",
      "sita: 90\n",
      "ram: 78\n",
      "geeta: 88\n"
     ]
    }
   ],
   "source": [
    "student_marks={\"mohan\": 85, \"sita\": 90, \"ram\": 78, \"geeta\": 88}\n",
    "def add_student(name, marks):\n",
    "    if name in student_marks:\n",
    "        print(f\"Student {name} already exists.\")\n",
    "    else:\n",
    "        student_marks[name] = marks\n",
    "        print(f\"Student {name} added with marks {marks}.\")\n",
    "def update_student(name, marks):\n",
    "    if name in student_marks:\n",
    "        student_marks[name] = marks\n",
    "        print(f\"Student {name} updated with marks {marks}.\")\n",
    "    else:\n",
    "        print(f\"Student {name} does not exist.\")\n",
    "print(\"Welcome to the Student Marks Management System\")\n",
    "print(\"1. Add Student\")\n",
    "print(\"2. Update Student\")\n",
    "print(\"3. Display all records\")\n",
    "print(\"5. Display highest, lowest, and average marks\")\n",
    "print(\"6. Exit\")\n",
    "choice=input(\"Enter your choice: \")\n",
    "match choice:\n",
    "    case \"1\":\n",
    "        name = input(\"Enter student name: \")\n",
    "        marks = float(input(\"Enter student marks: \"))\n",
    "        add_student(name, marks)\n",
    "    case \"2\":\n",
    "        name = input(\"Enter student name to update: \")\n",
    "        marks = float(input(\"Enter new marks for the student: \"))\n",
    "        update_student(name, marks)\n",
    "    case \"3\":\n",
    "        print(\"Student Records:\")\n",
    "        for student, marks in student_marks.items():\n",
    "            print(f\"{student}: {marks}\")\n",
    "    case \"5\":\n",
    "        if not student_marks:\n",
    "            print(\"No records available.\")\n",
    "        else:\n",
    "            highest = max(student_marks.values())\n",
    "            lowest = min(student_marks.values())\n",
    "            average = sum(student_marks.values()) / len(student_marks)\n",
    "            print(f\"Highest Marks: {highest}\")\n",
    "            print(f\"Lowest Marks: {lowest}\")\n",
    "            print(f\"Average Marks: {average}\")\n",
    "    case \"6\":\n",
    "        print(\"Exiting the system.\")\n",
    "    case _:\n",
    "        print(\"Invalid choice. Please try again.\")"
   ]
  },
  {
   "cell_type": "code",
   "execution_count": null,
   "id": "c2d906a7-6f1b-4b48-a39c-0224afd10530",
   "metadata": {},
   "outputs": [],
   "source": []
  }
 ],
 "metadata": {
  "kernelspec": {
   "display_name": "Python 3 (ipykernel)",
   "language": "python",
   "name": "python3"
  },
  "language_info": {
   "codemirror_mode": {
    "name": "ipython",
    "version": 3
   },
   "file_extension": ".py",
   "mimetype": "text/x-python",
   "name": "python",
   "nbconvert_exporter": "python",
   "pygments_lexer": "ipython3",
   "version": "3.12.4"
  }
 },
 "nbformat": 4,
 "nbformat_minor": 5
}
